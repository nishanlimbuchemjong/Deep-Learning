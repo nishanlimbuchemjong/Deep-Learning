{
 "cells": [
  {
   "cell_type": "code",
   "execution_count": 1,
   "id": "7b8fe551-f90c-4702-a15f-2423951985e2",
   "metadata": {},
   "outputs": [],
   "source": [
    "import tensorflow"
   ]
  },
  {
   "cell_type": "code",
   "execution_count": 116,
   "id": "b95aecef-16fb-49e7-894c-ffcbf3c62439",
   "metadata": {},
   "outputs": [],
   "source": [
    "from keras.layers import Dense, Conv2D, MaxPooling2D, Flatten\n",
    "from keras.models import Sequential\n",
    "from tensorflow.keras.preprocessing.image import ImageDataGenerator"
   ]
  },
  {
   "cell_type": "code",
   "execution_count": 117,
   "id": "da5c3b4e-cb4b-4508-857c-047a65164f8b",
   "metadata": {},
   "outputs": [],
   "source": [
    "cnn = Sequential()"
   ]
  },
  {
   "cell_type": "code",
   "execution_count": 118,
   "id": "98a4e62d-45d6-4df0-ab4c-5efb23e20c85",
   "metadata": {},
   "outputs": [],
   "source": [
    "cnn.add(Conv2D(32, (3, 3), input_shape = (64, 64, 3), activation='relu'))\n",
    "cnn.add(MaxPooling2D(pool_size=(2,2)))\n",
    "cnn.add(Conv2D(16, (3, 3), activation='relu'))\n",
    "cnn.add(MaxPooling2D(pool_size=(2,2)))\n",
    "cnn.add(Flatten())"
   ]
  },
  {
   "cell_type": "code",
   "execution_count": 121,
   "id": "39e7dabc-e657-4448-81c3-e1401cef4cd7",
   "metadata": {},
   "outputs": [],
   "source": [
    "cnn.add(Dense(64, activation='relu'))\n",
    "cnn.add(Dense(32, activation='relu'))\n",
    "cnn.add(Dense(16, activation='relu'))\n",
    "cnn.add(Dense(8, activation='relu'))\n",
    "cnn.add(Dense(4, activation='relu'))\n",
    "cnn.add(Dense(1, activation='sigmoid'))"
   ]
  },
  {
   "cell_type": "code",
   "execution_count": 122,
   "id": "d1f16592-83d1-4057-9974-be4ca2e4c93f",
   "metadata": {},
   "outputs": [],
   "source": [
    "# comple cnn model\n",
    "cnn.compile(loss='binary_crossentropy', optimizer='adam')"
   ]
  },
  {
   "cell_type": "code",
   "execution_count": 123,
   "id": "3f99027d-4dee-41d2-85e4-8a6de055311d",
   "metadata": {},
   "outputs": [
    {
     "name": "stdout",
     "output_type": "stream",
     "text": [
      "Found 20000 images belonging to 2 classes.\n",
      "Found 5000 images belonging to 2 classes.\n",
      "Epoch 1/50\n",
      "\u001b[1m200/200\u001b[0m \u001b[32m━━━━━━━━━━━━━━━━━━━━\u001b[0m\u001b[37m\u001b[0m \u001b[1m155s\u001b[0m 715ms/step - loss: 0.6932 - val_loss: 0.6932\n",
      "Epoch 2/50\n",
      "\u001b[1m200/200\u001b[0m \u001b[32m━━━━━━━━━━━━━━━━━━━━\u001b[0m\u001b[37m\u001b[0m \u001b[1m115s\u001b[0m 578ms/step - loss: 0.6931 - val_loss: 0.6932\n",
      "Epoch 3/50\n",
      "\u001b[1m200/200\u001b[0m \u001b[32m━━━━━━━━━━━━━━━━━━━━\u001b[0m\u001b[37m\u001b[0m \u001b[1m191s\u001b[0m 959ms/step - loss: 0.6931 - val_loss: 0.6932\n",
      "Epoch 4/50\n",
      "\u001b[1m200/200\u001b[0m \u001b[32m━━━━━━━━━━━━━━━━━━━━\u001b[0m\u001b[37m\u001b[0m \u001b[1m23s\u001b[0m 114ms/step - loss: 0.6934 - val_loss: 0.6932\n",
      "Epoch 5/50\n",
      "\u001b[1m200/200\u001b[0m \u001b[32m━━━━━━━━━━━━━━━━━━━━\u001b[0m\u001b[37m\u001b[0m \u001b[1m102s\u001b[0m 510ms/step - loss: 0.6931 - val_loss: 0.6932\n",
      "Epoch 6/50\n",
      "\u001b[1m200/200\u001b[0m \u001b[32m━━━━━━━━━━━━━━━━━━━━\u001b[0m\u001b[37m\u001b[0m \u001b[1m87s\u001b[0m 434ms/step - loss: 0.6932 - val_loss: 0.6932\n",
      "Epoch 7/50\n",
      "\u001b[1m200/200\u001b[0m \u001b[32m━━━━━━━━━━━━━━━━━━━━\u001b[0m\u001b[37m\u001b[0m \u001b[1m93s\u001b[0m 469ms/step - loss: 0.6933 - val_loss: 0.6932\n",
      "Epoch 8/50\n",
      "\u001b[1m200/200\u001b[0m \u001b[32m━━━━━━━━━━━━━━━━━━━━\u001b[0m\u001b[37m\u001b[0m \u001b[1m18s\u001b[0m 91ms/step - loss: 0.6931 - val_loss: 0.6932\n",
      "Epoch 9/50\n",
      "\u001b[1m200/200\u001b[0m \u001b[32m━━━━━━━━━━━━━━━━━━━━\u001b[0m\u001b[37m\u001b[0m \u001b[1m67s\u001b[0m 336ms/step - loss: 0.6932 - val_loss: 0.6932\n",
      "Epoch 10/50\n",
      "\u001b[1m200/200\u001b[0m \u001b[32m━━━━━━━━━━━━━━━━━━━━\u001b[0m\u001b[37m\u001b[0m \u001b[1m62s\u001b[0m 312ms/step - loss: 0.6933 - val_loss: 0.6932\n",
      "Epoch 11/50\n",
      "\u001b[1m200/200\u001b[0m \u001b[32m━━━━━━━━━━━━━━━━━━━━\u001b[0m\u001b[37m\u001b[0m \u001b[1m61s\u001b[0m 305ms/step - loss: 0.6934 - val_loss: 0.6932\n",
      "Epoch 12/50\n",
      "\u001b[1m200/200\u001b[0m \u001b[32m━━━━━━━━━━━━━━━━━━━━\u001b[0m\u001b[37m\u001b[0m \u001b[1m16s\u001b[0m 80ms/step - loss: 0.6932 - val_loss: 0.6932\n",
      "Epoch 13/50\n",
      "\u001b[1m200/200\u001b[0m \u001b[32m━━━━━━━━━━━━━━━━━━━━\u001b[0m\u001b[37m\u001b[0m \u001b[1m58s\u001b[0m 287ms/step - loss: 0.6932 - val_loss: 0.6932\n",
      "Epoch 14/50\n",
      "\u001b[1m200/200\u001b[0m \u001b[32m━━━━━━━━━━━━━━━━━━━━\u001b[0m\u001b[37m\u001b[0m \u001b[1m62s\u001b[0m 312ms/step - loss: 0.6932 - val_loss: 0.6932\n",
      "Epoch 15/50\n",
      "\u001b[1m200/200\u001b[0m \u001b[32m━━━━━━━━━━━━━━━━━━━━\u001b[0m\u001b[37m\u001b[0m \u001b[1m61s\u001b[0m 308ms/step - loss: 0.6932 - val_loss: 0.6932\n",
      "Epoch 16/50\n",
      "\u001b[1m200/200\u001b[0m \u001b[32m━━━━━━━━━━━━━━━━━━━━\u001b[0m\u001b[37m\u001b[0m \u001b[1m14s\u001b[0m 70ms/step - loss: 0.6931 - val_loss: 0.6932\n",
      "Epoch 17/50\n",
      "\u001b[1m200/200\u001b[0m \u001b[32m━━━━━━━━━━━━━━━━━━━━\u001b[0m\u001b[37m\u001b[0m \u001b[1m61s\u001b[0m 307ms/step - loss: 0.6930 - val_loss: 0.6932\n",
      "Epoch 18/50\n",
      "\u001b[1m200/200\u001b[0m \u001b[32m━━━━━━━━━━━━━━━━━━━━\u001b[0m\u001b[37m\u001b[0m \u001b[1m109s\u001b[0m 546ms/step - loss: 0.6933 - val_loss: 0.6931\n",
      "Epoch 19/50\n",
      "\u001b[1m200/200\u001b[0m \u001b[32m━━━━━━━━━━━━━━━━━━━━\u001b[0m\u001b[37m\u001b[0m \u001b[1m108s\u001b[0m 542ms/step - loss: 0.6932 - val_loss: 0.6931\n",
      "Epoch 20/50\n",
      "\u001b[1m200/200\u001b[0m \u001b[32m━━━━━━━━━━━━━━━━━━━━\u001b[0m\u001b[37m\u001b[0m \u001b[1m27s\u001b[0m 133ms/step - loss: 0.6932 - val_loss: 0.6931\n",
      "Epoch 21/50\n",
      "\u001b[1m200/200\u001b[0m \u001b[32m━━━━━━━━━━━━━━━━━━━━\u001b[0m\u001b[37m\u001b[0m \u001b[1m68s\u001b[0m 340ms/step - loss: 0.6932 - val_loss: 0.6931\n",
      "Epoch 22/50\n",
      "\u001b[1m200/200\u001b[0m \u001b[32m━━━━━━━━━━━━━━━━━━━━\u001b[0m\u001b[37m\u001b[0m \u001b[1m76s\u001b[0m 381ms/step - loss: 0.6931 - val_loss: 0.6932\n",
      "Epoch 23/50\n",
      "\u001b[1m200/200\u001b[0m \u001b[32m━━━━━━━━━━━━━━━━━━━━\u001b[0m\u001b[37m\u001b[0m \u001b[1m61s\u001b[0m 305ms/step - loss: 0.6930 - val_loss: 0.6933\n",
      "Epoch 24/50\n",
      "\u001b[1m200/200\u001b[0m \u001b[32m━━━━━━━━━━━━━━━━━━━━\u001b[0m\u001b[37m\u001b[0m \u001b[1m18s\u001b[0m 89ms/step - loss: 0.6943 - val_loss: 0.6932\n",
      "Epoch 25/50\n",
      "\u001b[1m200/200\u001b[0m \u001b[32m━━━━━━━━━━━━━━━━━━━━\u001b[0m\u001b[37m\u001b[0m \u001b[1m64s\u001b[0m 318ms/step - loss: 0.6931 - val_loss: 0.6932\n",
      "Epoch 26/50\n",
      "\u001b[1m200/200\u001b[0m \u001b[32m━━━━━━━━━━━━━━━━━━━━\u001b[0m\u001b[37m\u001b[0m \u001b[1m68s\u001b[0m 341ms/step - loss: 0.6930 - val_loss: 0.6932\n",
      "Epoch 27/50\n",
      "\u001b[1m200/200\u001b[0m \u001b[32m━━━━━━━━━━━━━━━━━━━━\u001b[0m\u001b[37m\u001b[0m \u001b[1m61s\u001b[0m 304ms/step - loss: 0.6932 - val_loss: 0.6932\n",
      "Epoch 28/50\n",
      "\u001b[1m200/200\u001b[0m \u001b[32m━━━━━━━━━━━━━━━━━━━━\u001b[0m\u001b[37m\u001b[0m \u001b[1m14s\u001b[0m 72ms/step - loss: 0.6930 - val_loss: 0.6932\n",
      "Epoch 29/50\n",
      "\u001b[1m200/200\u001b[0m \u001b[32m━━━━━━━━━━━━━━━━━━━━\u001b[0m\u001b[37m\u001b[0m \u001b[1m55s\u001b[0m 276ms/step - loss: 0.6933 - val_loss: 0.6932\n",
      "Epoch 30/50\n",
      "\u001b[1m200/200\u001b[0m \u001b[32m━━━━━━━━━━━━━━━━━━━━\u001b[0m\u001b[37m\u001b[0m \u001b[1m49s\u001b[0m 246ms/step - loss: 0.6931 - val_loss: 0.6932\n",
      "Epoch 31/50\n",
      "\u001b[1m200/200\u001b[0m \u001b[32m━━━━━━━━━━━━━━━━━━━━\u001b[0m\u001b[37m\u001b[0m \u001b[1m50s\u001b[0m 251ms/step - loss: 0.6932 - val_loss: 0.6932\n",
      "Epoch 32/50\n",
      "\u001b[1m200/200\u001b[0m \u001b[32m━━━━━━━━━━━━━━━━━━━━\u001b[0m\u001b[37m\u001b[0m \u001b[1m14s\u001b[0m 68ms/step - loss: 0.6932 - val_loss: 0.6932\n",
      "Epoch 33/50\n",
      "\u001b[1m200/200\u001b[0m \u001b[32m━━━━━━━━━━━━━━━━━━━━\u001b[0m\u001b[37m\u001b[0m \u001b[1m50s\u001b[0m 249ms/step - loss: 0.6933 - val_loss: 0.6931\n",
      "Epoch 34/50\n",
      "\u001b[1m200/200\u001b[0m \u001b[32m━━━━━━━━━━━━━━━━━━━━\u001b[0m\u001b[37m\u001b[0m \u001b[1m48s\u001b[0m 240ms/step - loss: 0.6932 - val_loss: 0.6932\n",
      "Epoch 35/50\n",
      "\u001b[1m200/200\u001b[0m \u001b[32m━━━━━━━━━━━━━━━━━━━━\u001b[0m\u001b[37m\u001b[0m \u001b[1m58s\u001b[0m 292ms/step - loss: 0.6932 - val_loss: 0.6931\n",
      "Epoch 36/50\n",
      "\u001b[1m200/200\u001b[0m \u001b[32m━━━━━━━━━━━━━━━━━━━━\u001b[0m\u001b[37m\u001b[0m \u001b[1m21s\u001b[0m 105ms/step - loss: 0.6931 - val_loss: 0.6931\n",
      "Epoch 37/50\n",
      "\u001b[1m200/200\u001b[0m \u001b[32m━━━━━━━━━━━━━━━━━━━━\u001b[0m\u001b[37m\u001b[0m \u001b[1m72s\u001b[0m 358ms/step - loss: 0.6932 - val_loss: 0.6931\n",
      "Epoch 38/50\n",
      "\u001b[1m200/200\u001b[0m \u001b[32m━━━━━━━━━━━━━━━━━━━━\u001b[0m\u001b[37m\u001b[0m \u001b[1m66s\u001b[0m 329ms/step - loss: 0.6932 - val_loss: 0.6932\n",
      "Epoch 39/50\n",
      "\u001b[1m200/200\u001b[0m \u001b[32m━━━━━━━━━━━━━━━━━━━━\u001b[0m\u001b[37m\u001b[0m \u001b[1m69s\u001b[0m 345ms/step - loss: 0.6931 - val_loss: 0.6932\n",
      "Epoch 40/50\n",
      "\u001b[1m200/200\u001b[0m \u001b[32m━━━━━━━━━━━━━━━━━━━━\u001b[0m\u001b[37m\u001b[0m \u001b[1m71s\u001b[0m 355ms/step - loss: 0.6930 - val_loss: 0.6932\n",
      "Epoch 41/50\n",
      "\u001b[1m200/200\u001b[0m \u001b[32m━━━━━━━━━━━━━━━━━━━━\u001b[0m\u001b[37m\u001b[0m \u001b[1m120s\u001b[0m 600ms/step - loss: 0.6933 - val_loss: 0.6932\n",
      "Epoch 42/50\n",
      "\u001b[1m200/200\u001b[0m \u001b[32m━━━━━━━━━━━━━━━━━━━━\u001b[0m\u001b[37m\u001b[0m \u001b[1m97s\u001b[0m 489ms/step - loss: 0.6931 - val_loss: 0.6932\n",
      "Epoch 43/50\n",
      "\u001b[1m200/200\u001b[0m \u001b[32m━━━━━━━━━━━━━━━━━━━━\u001b[0m\u001b[37m\u001b[0m \u001b[1m84s\u001b[0m 420ms/step - loss: 0.6932 - val_loss: 0.6932\n",
      "Epoch 44/50\n",
      "\u001b[1m200/200\u001b[0m \u001b[32m━━━━━━━━━━━━━━━━━━━━\u001b[0m\u001b[37m\u001b[0m \u001b[1m17s\u001b[0m 86ms/step - loss: 0.6932 - val_loss: 0.6931\n",
      "Epoch 45/50\n",
      "\u001b[1m200/200\u001b[0m \u001b[32m━━━━━━━━━━━━━━━━━━━━\u001b[0m\u001b[37m\u001b[0m \u001b[1m66s\u001b[0m 330ms/step - loss: 0.6932 - val_loss: 0.6932\n",
      "Epoch 46/50\n",
      "\u001b[1m200/200\u001b[0m \u001b[32m━━━━━━━━━━━━━━━━━━━━\u001b[0m\u001b[37m\u001b[0m \u001b[1m61s\u001b[0m 305ms/step - loss: 0.6931 - val_loss: 0.6932\n",
      "Epoch 47/50\n",
      "\u001b[1m200/200\u001b[0m \u001b[32m━━━━━━━━━━━━━━━━━━━━\u001b[0m\u001b[37m\u001b[0m \u001b[1m59s\u001b[0m 297ms/step - loss: 0.6931 - val_loss: 0.6931\n",
      "Epoch 48/50\n",
      "\u001b[1m200/200\u001b[0m \u001b[32m━━━━━━━━━━━━━━━━━━━━\u001b[0m\u001b[37m\u001b[0m \u001b[1m16s\u001b[0m 79ms/step - loss: 0.6932 - val_loss: 0.6932\n",
      "Epoch 49/50\n",
      "\u001b[1m200/200\u001b[0m \u001b[32m━━━━━━━━━━━━━━━━━━━━\u001b[0m\u001b[37m\u001b[0m \u001b[1m59s\u001b[0m 296ms/step - loss: 0.6932 - val_loss: 0.6932\n",
      "Epoch 50/50\n",
      "\u001b[1m200/200\u001b[0m \u001b[32m━━━━━━━━━━━━━━━━━━━━\u001b[0m\u001b[37m\u001b[0m \u001b[1m60s\u001b[0m 300ms/step - loss: 0.6933 - val_loss: 0.6932\n"
     ]
    },
    {
     "data": {
      "text/plain": [
       "<keras.src.callbacks.history.History at 0x224c6aa8d40>"
      ]
     },
     "execution_count": 123,
     "metadata": {},
     "output_type": "execute_result"
    }
   ],
   "source": [
    "# getting datas from directory; image preprocessing from kearas:\n",
    "train_datagen = ImageDataGenerator(\n",
    "        rescale=1./255,\n",
    "        shear_range=0.2,\n",
    "        zoom_range=0.2,\n",
    "        horizontal_flip=True)\n",
    "\n",
    "test_datagen = ImageDataGenerator(rescale=1./255)\n",
    "\n",
    "train_generator = train_datagen.flow_from_directory(\n",
    "        r'./dataset/train',\n",
    "        target_size=(64, 64),\n",
    "        batch_size=32,\n",
    "        class_mode='binary')\n",
    "\n",
    "test_generator = test_datagen.flow_from_directory(\n",
    "        r'./dataset/test',\n",
    "        target_size=(64, 64),\n",
    "        batch_size=32,\n",
    "        class_mode='binary')\n",
    "\n",
    "cnn.fit(\n",
    "        train_generator,\n",
    "        steps_per_epoch=200,\n",
    "        epochs=50,\n",
    "        validation_data=test_generator,\n",
    "        validation_steps=800)"
   ]
  },
  {
   "cell_type": "code",
   "execution_count": null,
   "id": "7000460e-b0da-425f-b4b4-4371f2db22c2",
   "metadata": {},
   "outputs": [],
   "source": []
  },
  {
   "cell_type": "code",
   "execution_count": null,
   "id": "79c25408-5b50-491a-9b9a-ebaf4b416602",
   "metadata": {},
   "outputs": [],
   "source": []
  },
  {
   "cell_type": "code",
   "execution_count": null,
   "id": "17c75588-8efb-4c66-855f-26ff1fd801a5",
   "metadata": {},
   "outputs": [],
   "source": []
  },
  {
   "cell_type": "markdown",
   "id": "dcdaadac-5e31-40f5-9b54-c994b9d6be23",
   "metadata": {},
   "source": [
    "# For New Data"
   ]
  },
  {
   "cell_type": "code",
   "execution_count": 124,
   "id": "95b9e29f-7fee-4363-8ace-3124aa4a887c",
   "metadata": {},
   "outputs": [],
   "source": [
    "from keras.preprocessing import image\n",
    "import numpy as np"
   ]
  },
  {
   "cell_type": "code",
   "execution_count": 131,
   "id": "67963f2c-4ed4-4568-8c27-f871113bcf69",
   "metadata": {},
   "outputs": [],
   "source": [
    "img = image.load_img(r'./dataset/testing_dataset/cat1.jpg', target_size=(64, 64))"
   ]
  },
  {
   "cell_type": "code",
   "execution_count": 132,
   "id": "6519a4da-8ff2-49ac-af0c-d5b94ae6b25b",
   "metadata": {},
   "outputs": [],
   "source": [
    "# converting image into array\n",
    "img = image.img_to_array(img)"
   ]
  },
  {
   "cell_type": "code",
   "execution_count": 133,
   "id": "0ea4bc5b-c849-424b-ac1a-ef78cee1a9ca",
   "metadata": {},
   "outputs": [
    {
     "data": {
      "text/plain": [
       "array([[[128., 123., 119.],\n",
       "        [186., 183., 178.],\n",
       "        [ 74.,  71.,  64.],\n",
       "        ...,\n",
       "        [221., 219., 207.],\n",
       "        [230., 230., 222.],\n",
       "        [164., 160., 151.]],\n",
       "\n",
       "       [[158., 157., 152.],\n",
       "        [225., 222., 217.],\n",
       "        [ 90.,  85.,  79.],\n",
       "        ...,\n",
       "        [250., 250., 248.],\n",
       "        [247., 248., 243.],\n",
       "        [244., 247., 240.]],\n",
       "\n",
       "       [[153., 150., 145.],\n",
       "        [211., 208., 203.],\n",
       "        [144., 141., 136.],\n",
       "        ...,\n",
       "        [239., 238., 233.],\n",
       "        [246., 249., 242.],\n",
       "        [246., 249., 242.]],\n",
       "\n",
       "       ...,\n",
       "\n",
       "       [[ 93.,  90.,  85.],\n",
       "        [112., 105.,  99.],\n",
       "        [203., 200., 195.],\n",
       "        ...,\n",
       "        [ 33.,  30.,  25.],\n",
       "        [185., 185., 177.],\n",
       "        [ 79.,  78.,  73.]],\n",
       "\n",
       "       [[143., 133., 131.],\n",
       "        [184., 181., 176.],\n",
       "        [237., 234., 229.],\n",
       "        ...,\n",
       "        [ 23.,  20.,  15.],\n",
       "        [ 30.,  26.,  25.],\n",
       "        [ 38.,  35.,  30.]],\n",
       "\n",
       "       [[184., 173., 167.],\n",
       "        [167., 162., 156.],\n",
       "        [229., 226., 221.],\n",
       "        ...,\n",
       "        [ 40.,  37.,  32.],\n",
       "        [ 26.,  23.,  18.],\n",
       "        [ 31.,  28.,  23.]]], dtype=float32)"
      ]
     },
     "execution_count": 133,
     "metadata": {},
     "output_type": "execute_result"
    }
   ],
   "source": [
    "img"
   ]
  },
  {
   "cell_type": "code",
   "execution_count": 134,
   "id": "6f112c89-c87d-4ff9-a6b7-fbe2eeba187b",
   "metadata": {},
   "outputs": [],
   "source": [
    "# cnn cannot be used directly. so we need to flatten\n",
    "img = np.expand_dims(img, axis=0)"
   ]
  },
  {
   "cell_type": "code",
   "execution_count": 135,
   "id": "4f69cf7e-8a68-446c-bbb8-69ed8a029249",
   "metadata": {},
   "outputs": [
    {
     "name": "stdout",
     "output_type": "stream",
     "text": [
      "\u001b[1m1/1\u001b[0m \u001b[32m━━━━━━━━━━━━━━━━━━━━\u001b[0m\u001b[37m\u001b[0m \u001b[1m0s\u001b[0m 73ms/step\n"
     ]
    }
   ],
   "source": [
    "# uing prediction\n",
    "res = cnn.predict(img)"
   ]
  },
  {
   "cell_type": "code",
   "execution_count": 137,
   "id": "f5458fa9-3fd5-466c-981c-ddb269e2c32c",
   "metadata": {},
   "outputs": [
    {
     "name": "stdout",
     "output_type": "stream",
     "text": [
      "It is a Dog\n"
     ]
    }
   ],
   "source": [
    "if res[0][0] < 0.5:\n",
    "    print(\"It is a Dog\")\n",
    "    \n",
    "else:\n",
    "    print(\"It is a Cat\")"
   ]
  },
  {
   "cell_type": "code",
   "execution_count": null,
   "id": "55e717f7-263c-4b27-a340-15b9424c9a26",
   "metadata": {},
   "outputs": [],
   "source": []
  },
  {
   "cell_type": "code",
   "execution_count": null,
   "id": "01bebe16-2578-42cb-b02e-7699b7853b0b",
   "metadata": {},
   "outputs": [],
   "source": []
  }
 ],
 "metadata": {
  "kernelspec": {
   "display_name": "Python 3 (ipykernel)",
   "language": "python",
   "name": "python3"
  },
  "language_info": {
   "codemirror_mode": {
    "name": "ipython",
    "version": 3
   },
   "file_extension": ".py",
   "mimetype": "text/x-python",
   "name": "python",
   "nbconvert_exporter": "python",
   "pygments_lexer": "ipython3",
   "version": "3.12.8"
  }
 },
 "nbformat": 4,
 "nbformat_minor": 5
}
